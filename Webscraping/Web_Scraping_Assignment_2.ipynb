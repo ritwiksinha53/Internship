{
  "cells": [
    {
      "cell_type": "markdown",
      "source": [
        "##Solution -1"
      ],
      "metadata": {
        "id": "HjyVqmnxWMv7"
      },
      "id": "HjyVqmnxWMv7"
    },
    {
      "cell_type": "markdown",
      "source": [
        "Run \"!pip install...\" code only once for complete notebook"
      ],
      "metadata": {
        "id": "4R2nI_NJWVdN"
      },
      "id": "4R2nI_NJWVdN"
    },
    {
      "cell_type": "code",
      "execution_count": null,
      "id": "3e550d86",
      "metadata": {
        "id": "3e550d86",
        "outputId": "1c8dcdaf-4413-4ee5-c9c5-46f0a931e14a"
      },
      "outputs": [
        {
          "name": "stdout",
          "output_type": "stream",
          "text": [
            "Requirement already satisfied: requests in c:\\users\\jatin\\anaconda3\\lib\\site-packages (2.26.0)\n",
            "Requirement already satisfied: beautifulsoup4 in c:\\users\\jatin\\anaconda3\\lib\\site-packages (4.10.0)\n",
            "Requirement already satisfied: urllib3<1.27,>=1.21.1 in c:\\users\\jatin\\anaconda3\\lib\\site-packages (from requests) (1.26.7)\n",
            "Requirement already satisfied: charset-normalizer~=2.0.0 in c:\\users\\jatin\\anaconda3\\lib\\site-packages (from requests) (2.0.4)\n",
            "Requirement already satisfied: certifi>=2017.4.17 in c:\\users\\jatin\\anaconda3\\lib\\site-packages (from requests) (2021.10.8)\n",
            "Requirement already satisfied: idna<4,>=2.5 in c:\\users\\jatin\\anaconda3\\lib\\site-packages (from requests) (3.2)\n",
            "Requirement already satisfied: soupsieve>1.2 in c:\\users\\jatin\\anaconda3\\lib\\site-packages (from beautifulsoup4) (2.2.1)\n"
          ]
        }
      ],
      "source": [
        "!pip install requests beautifulsoup4"
      ]
    },
    {
      "cell_type": "code",
      "execution_count": null,
      "id": "2219e446",
      "metadata": {
        "id": "2219e446",
        "outputId": "72b010f4-fdf2-438e-9440-3a3b8ee34d41"
      },
      "outputs": [
        {
          "name": "stdout",
          "output_type": "stream",
          "text": [
            "Collecting selenium\n",
            "  Downloading selenium-4.9.1-py3-none-any.whl (6.6 MB)\n",
            "Requirement already satisfied: certifi>=2021.10.8 in c:\\users\\jatin\\anaconda3\\lib\\site-packages (from selenium) (2021.10.8)\n",
            "Requirement already satisfied: urllib3[socks]<3,>=1.26 in c:\\users\\jatin\\anaconda3\\lib\\site-packages (from selenium) (1.26.7)\n",
            "Collecting trio~=0.17\n",
            "  Downloading trio-0.22.0-py3-none-any.whl (384 kB)\n",
            "Collecting trio-websocket~=0.9\n",
            "  Downloading trio_websocket-0.10.2-py3-none-any.whl (17 kB)\n",
            "Collecting exceptiongroup>=1.0.0rc9\n",
            "  Downloading exceptiongroup-1.1.1-py3-none-any.whl (14 kB)\n",
            "Requirement already satisfied: sniffio in c:\\users\\jatin\\anaconda3\\lib\\site-packages (from trio~=0.17->selenium) (1.2.0)\n",
            "Requirement already satisfied: cffi>=1.14 in c:\\users\\jatin\\anaconda3\\lib\\site-packages (from trio~=0.17->selenium) (1.14.6)\n",
            "Requirement already satisfied: async-generator>=1.9 in c:\\users\\jatin\\anaconda3\\lib\\site-packages (from trio~=0.17->selenium) (1.10)\n",
            "Requirement already satisfied: sortedcontainers in c:\\users\\jatin\\anaconda3\\lib\\site-packages (from trio~=0.17->selenium) (2.4.0)\n",
            "Requirement already satisfied: attrs>=19.2.0 in c:\\users\\jatin\\anaconda3\\lib\\site-packages (from trio~=0.17->selenium) (21.2.0)\n",
            "Collecting outcome\n",
            "  Downloading outcome-1.2.0-py2.py3-none-any.whl (9.7 kB)\n",
            "Requirement already satisfied: idna in c:\\users\\jatin\\anaconda3\\lib\\site-packages (from trio~=0.17->selenium) (3.2)\n",
            "Requirement already satisfied: pycparser in c:\\users\\jatin\\anaconda3\\lib\\site-packages (from cffi>=1.14->trio~=0.17->selenium) (2.20)\n",
            "Collecting wsproto>=0.14\n",
            "  Downloading wsproto-1.2.0-py3-none-any.whl (24 kB)\n",
            "Requirement already satisfied: PySocks!=1.5.7,<2.0,>=1.5.6 in c:\\users\\jatin\\anaconda3\\lib\\site-packages (from urllib3[socks]<3,>=1.26->selenium) (1.7.1)\n",
            "Collecting h11<1,>=0.9.0\n",
            "  Downloading h11-0.14.0-py3-none-any.whl (58 kB)\n",
            "Installing collected packages: outcome, h11, exceptiongroup, wsproto, trio, trio-websocket, selenium\n",
            "Successfully installed exceptiongroup-1.1.1 h11-0.14.0 outcome-1.2.0 selenium-4.9.1 trio-0.22.0 trio-websocket-0.10.2 wsproto-1.2.0\n"
          ]
        }
      ],
      "source": [
        "!pip install selenium"
      ]
    },
    {
      "cell_type": "code",
      "execution_count": null,
      "id": "61d18a0c",
      "metadata": {
        "id": "61d18a0c"
      },
      "outputs": [],
      "source": [
        "import selenium\n",
        "import pandas as pd\n",
        "from selenium import webdriver\n",
        "import warnings\n",
        "warnings.filterwarnings('ignore')\n",
        "from selenium.webdriver.common.by import By\n",
        "from selenium.webdriver.common.keys import Keys\n",
        "import time"
      ]
    },
    {
      "cell_type": "code",
      "execution_count": null,
      "id": "ccf8f135",
      "metadata": {
        "id": "ccf8f135"
      },
      "outputs": [],
      "source": [
        "# Creating a webdriver and calling a website\n",
        "\n",
        "driver = webdriver.Chrome(r\"C:\\Users\\Jatin\\OneDrive\\Desktop\\ritwik\\chromedriver_win32\\chromedriver.exe\")\n",
        "driver.get(\"https://www.naukri.com/\")"
      ]
    },
    {
      "cell_type": "code",
      "execution_count": null,
      "id": "85187db1",
      "metadata": {
        "id": "85187db1"
      },
      "outputs": [],
      "source": [
        "# Entering \"Data Analyst\" in \"Enter skills/designations/companies\" blank of naukri.com\n",
        "\n",
        "search_field = driver.find_element(By.CLASS_NAME,\"suggestor-input\")\n",
        "search_field.send_keys(\"Data Analyst\")"
      ]
    },
    {
      "cell_type": "code",
      "execution_count": null,
      "id": "bef74b9b",
      "metadata": {
        "id": "bef74b9b"
      },
      "outputs": [],
      "source": [
        "# Entering \"Bangalore\" in \"Enter location\" blank of naukri.com\n",
        "\n",
        "location_field = driver.find_element(By.XPATH,\"/html/body/div[1]/div[7]/div/div/div[5]/div/div/div/div[1]/div/input\")\n",
        "location_field.send_keys(\"Bangalore\")"
      ]
    },
    {
      "cell_type": "code",
      "execution_count": null,
      "id": "fd2e38b8",
      "metadata": {
        "id": "fd2e38b8"
      },
      "outputs": [],
      "source": [
        "# Automating the clicking of search button\n",
        "\n",
        "search_button = driver.find_element(By.CLASS_NAME, \"qsbSubmit\")\n",
        "search_button.click()"
      ]
    },
    {
      "cell_type": "code",
      "execution_count": null,
      "id": "8461163b",
      "metadata": {
        "id": "8461163b"
      },
      "outputs": [],
      "source": [
        "# Get web elements for Job title, Job Locations, Company names and Experience Required\n",
        "\n",
        "job_titles = driver.find_elements(By.XPATH,'//a[@class=\"title ellipsis\"]')\n",
        "job_locations = driver.find_elements(By.XPATH,'//span[@class=\"ellipsis fleft locWdth\"]')\n",
        "company_names = driver.find_elements(By.XPATH,'//a[@class=\"subTitle ellipsis fleft\"]')\n",
        "experience_required = driver.find_elements(By.XPATH,'//span[@class=\"ellipsis fleft expwdth\"]')\n",
        "\n",
        "# Get text from the web elements\n",
        "\n",
        "job_titles = [title.text for title in job_titles[:10]]\n",
        "job_locations = [location.text for location in job_locations[:10]]\n",
        "company_names = [company.text for company in company_names[:10]]\n",
        "experience_required = [experience.text for experience in experience_required[:10]]"
      ]
    },
    {
      "cell_type": "code",
      "execution_count": null,
      "id": "c8aaaa69",
      "metadata": {
        "id": "c8aaaa69",
        "outputId": "5144cb7f-be5d-42ed-d752-db7874604f9f"
      },
      "outputs": [
        {
          "name": "stdout",
          "output_type": "stream",
          "text": [
            "                          Job Title  \\\n",
            "0                      Data Analyst   \n",
            "1                      Data Analyst   \n",
            "2  Data Analyst - IIT/BITS/Startups   \n",
            "3            Data Analyst - FinTech   \n",
            "4            Data Analyst - FinTech   \n",
            "5            Data Analyst - FinTech   \n",
            "6  Data Analyst - IIT/BITS/Startups   \n",
            "7                      Data Analyst   \n",
            "8                      Data Analyst   \n",
            "9              Banking Data Analyst   \n",
            "\n",
            "                                        Job Location  Company Name  \\\n",
            "0                                Bangalore/Bengaluru           ANZ   \n",
            "1                                Bangalore/Bengaluru           ANZ   \n",
            "2                                Bangalore/Bengaluru  AVE Promagne   \n",
            "3  Bangalore/Bengaluru, Mumbai, Hyderabad/Secunde...  Primo Hiring   \n",
            "4  Bangalore/Bengaluru, Kolkata, Mumbai, Hyderaba...  Primo Hiring   \n",
            "5  Bangalore/Bengaluru, Kolkata, Mumbai, Hyderaba...  Primo Hiring   \n",
            "6                                Bangalore/Bengaluru  AVE Promagne   \n",
            "7                                Bangalore/Bengaluru       Siemens   \n",
            "8  Temp. WFH - Bangalore/Bengaluru, Noida, Pune, ...      Infogain   \n",
            "9  Bangalore/Bengaluru, Hyderabad/Secunderabad, G...       Coforge   \n",
            "\n",
            "  Experience Required  \n",
            "0             6-9 Yrs  \n",
            "1            6-10 Yrs  \n",
            "2             1-5 Yrs  \n",
            "3             1-2 Yrs  \n",
            "4             1-2 Yrs  \n",
            "5             1-2 Yrs  \n",
            "6             1-5 Yrs  \n",
            "7             4-6 Yrs  \n",
            "8             4-7 Yrs  \n",
            "9            5-10 Yrs  \n"
          ]
        }
      ],
      "source": [
        "# Creating dataframe for storing data\n",
        "\n",
        "df = pd.DataFrame({\n",
        "    'Job Title': job_titles,\n",
        "    'Job Location': job_locations,\n",
        "    'Company Name': company_names,\n",
        "    'Experience Required': experience_required\n",
        "})\n",
        "\n",
        "# Print the dataframe\n",
        "\n",
        "print(df)"
      ]
    },
    {
      "cell_type": "code",
      "execution_count": null,
      "id": "ea89766f",
      "metadata": {
        "id": "ea89766f"
      },
      "outputs": [],
      "source": [
        "# Closing the webdriver\n",
        "\n",
        "driver.quit()"
      ]
    },
    {
      "cell_type": "markdown",
      "id": "d770b7a6",
      "metadata": {
        "id": "d770b7a6"
      },
      "source": [
        "## Solution -2"
      ]
    },
    {
      "cell_type": "code",
      "execution_count": null,
      "id": "e50a8c6a",
      "metadata": {
        "id": "e50a8c6a"
      },
      "outputs": [],
      "source": [
        "# Creating a webdriver and calling a website\n",
        "\n",
        "driver = webdriver.Chrome(r\"C:\\Users\\Jatin\\OneDrive\\Desktop\\ritwik\\chromedriver_win32\\chromedriver.exe\")\n",
        "driver.get(\"https://www.naukri.com/\")"
      ]
    },
    {
      "cell_type": "code",
      "execution_count": null,
      "id": "380fbe3c",
      "metadata": {
        "id": "380fbe3c"
      },
      "outputs": [],
      "source": [
        "# Entering \"Data Scientist\" in \"Enter skills/designations/companies\" blank of naukri.com\n",
        "\n",
        "search_field = driver.find_element(By.CLASS_NAME,\"suggestor-input\")\n",
        "search_field.send_keys(\"Data Scientist\")"
      ]
    },
    {
      "cell_type": "code",
      "execution_count": null,
      "id": "27f862ce",
      "metadata": {
        "id": "27f862ce"
      },
      "outputs": [],
      "source": [
        "# Entering \"Bangalore\" in \"Enter location\" blank of naukri.com\n",
        "\n",
        "location_field = driver.find_element(By.XPATH,\"/html/body/div[1]/div[7]/div/div/div[5]/div/div/div/div[1]/div/input\")\n",
        "location_field.send_keys(\"Bangalore\")"
      ]
    },
    {
      "cell_type": "code",
      "execution_count": null,
      "id": "33ca8ce9",
      "metadata": {
        "id": "33ca8ce9"
      },
      "outputs": [],
      "source": [
        "# Automating the clicking of search button\n",
        "\n",
        "search_button = driver.find_element(By.CLASS_NAME, \"qsbSubmit\")\n",
        "search_button.click()"
      ]
    },
    {
      "cell_type": "code",
      "execution_count": null,
      "id": "25a64f3a",
      "metadata": {
        "id": "25a64f3a"
      },
      "outputs": [],
      "source": [
        "# Get web elements for Job title, Job Locations, Company names and Experience Required\n",
        "\n",
        "job_titles = driver.find_elements(By.XPATH,'//a[@class=\"title ellipsis\"]')\n",
        "job_locations = driver.find_elements(By.XPATH,'//span[@class=\"ellipsis fleft locWdth\"]')\n",
        "company_names = driver.find_elements(By.XPATH,'//a[@class=\"subTitle ellipsis fleft\"]')\n",
        "experience_required = driver.find_elements(By.XPATH,'//span[@class=\"ellipsis fleft expwdth\"]')\n",
        "\n",
        "# Get text from the web elements\n",
        "\n",
        "job_titles = [title.text for title in job_titles[:10]]\n",
        "job_locations = [location.text for location in job_locations[:10]]\n",
        "company_names = [company.text for company in company_names[:10]]\n",
        "experience_required = [experience.text for experience in experience_required[:10]]"
      ]
    },
    {
      "cell_type": "code",
      "execution_count": null,
      "id": "f70cc415",
      "metadata": {
        "id": "f70cc415",
        "outputId": "a898ac05-504b-43e9-d7f3-536402a087af"
      },
      "outputs": [
        {
          "name": "stdout",
          "output_type": "stream",
          "text": [
            "                                           Job Title  \\\n",
            "0                            Data Science Specialist   \n",
            "1                                 Data Scientist_NLP   \n",
            "2                    Machine Learning (AI) Architect   \n",
            "3  Permanent Opportunity For Data scientist with AWS   \n",
            "4                               Data Science Analyst   \n",
            "5                          Data Scientist- Bangalore   \n",
            "6                                     Data Scientist   \n",
            "7                Data Science Analyst - Data Science   \n",
            "8                  Data Science Analyst Data Science   \n",
            "9  Analytics Specialist - Artificial Intelligence...   \n",
            "\n",
            "                                        Job Location       Company Name  \\\n",
            "0  Bangalore/Bengaluru, Kolkata, Mumbai, Hyderaba...          Accenture   \n",
            "1  Bangalore/Bengaluru, Mumbai, Pune, Chennai, Gu...  Fractal Analytics   \n",
            "2  Bangalore/Bengaluru, Kolkata, Mumbai, New Delh...         Persistent   \n",
            "3  Hybrid - Bangalore/Bengaluru, Chennai, Coimbat...           Deloitte   \n",
            "4                                Bangalore/Bengaluru          Accenture   \n",
            "5                                Bangalore/Bengaluru   Trigent Software   \n",
            "6                                Bangalore/Bengaluru                IBM   \n",
            "7                                Bangalore/Bengaluru          Accenture   \n",
            "8                                Bangalore/Bengaluru          Accenture   \n",
            "9                                Bangalore/Bengaluru          Accenture   \n",
            "\n",
            "  Experience Required  \n",
            "0             2-4 Yrs  \n",
            "1            5-11 Yrs  \n",
            "2            5-12 Yrs  \n",
            "3             3-8 Yrs  \n",
            "4             3-5 Yrs  \n",
            "5             3-6 Yrs  \n",
            "6            7-12 Yrs  \n",
            "7             3-5 Yrs  \n",
            "8             3-5 Yrs  \n",
            "9            7-11 Yrs  \n"
          ]
        }
      ],
      "source": [
        "# Creating dataframe for storing data\n",
        "\n",
        "df = pd.DataFrame({\n",
        "    'Job Title': job_titles,\n",
        "    'Job Location': job_locations,\n",
        "    'Company Name': company_names,\n",
        "    'Experience Required': experience_required\n",
        "})\n",
        "\n",
        "# Print the dataframe\n",
        "\n",
        "print(df)"
      ]
    },
    {
      "cell_type": "code",
      "execution_count": null,
      "id": "42e0f4a5",
      "metadata": {
        "id": "42e0f4a5"
      },
      "outputs": [],
      "source": [
        "# Closing the webdriver\n",
        "\n",
        "driver.quit()"
      ]
    },
    {
      "cell_type": "markdown",
      "source": [
        "## Solution -3"
      ],
      "metadata": {
        "id": "gnsQqcTqUR92"
      },
      "id": "gnsQqcTqUR92"
    },
    {
      "cell_type": "code",
      "execution_count": null,
      "metadata": {
        "id": "kdQrSNRFUkrp"
      },
      "outputs": [],
      "source": [
        "# Creating a webdriver and calling a website\n",
        "\n",
        "driver = webdriver.Chrome(r\"C:\\Users\\Jatin\\OneDrive\\Desktop\\ritwik\\chromedriver_win32\\chromedriver.exe\")\n",
        "driver.get(\"https://www.naukri.com/\")"
      ],
      "id": "kdQrSNRFUkrp"
    },
    {
      "cell_type": "code",
      "execution_count": null,
      "metadata": {
        "id": "5fffbec7"
      },
      "outputs": [],
      "source": [
        "search_field = driver.find_element(By.CLASS_NAME,\"suggestor-input\")\n",
        "search_field.send_keys(\"Data Scientist\")"
      ],
      "id": "5fffbec7"
    },
    {
      "cell_type": "code",
      "execution_count": null,
      "metadata": {
        "id": "3c171434"
      },
      "outputs": [],
      "source": [
        "# Automating the clicking of search button\n",
        "\n",
        "search_button = driver.find_element(By.CLASS_NAME, \"qsbSubmit\")\n",
        "search_button.click()"
      ],
      "id": "3c171434"
    },
    {
      "cell_type": "code",
      "execution_count": null,
      "metadata": {
        "id": "5f80421d"
      },
      "outputs": [],
      "source": [
        "# Automating the clicking of salary checkbox\n",
        "\n",
        "salary_button = driver.find_element(By.XPATH, \"/html/body/div[1]/div[4]/div/div/section[1]/div[2]/div[6]/div[2]/div[2]/label/i\")\n",
        "salary_button.click()"
      ],
      "id": "5f80421d"
    },
    {
      "cell_type": "code",
      "execution_count": null,
      "metadata": {
        "id": "3a9a2f2d"
      },
      "outputs": [],
      "source": [
        "# Automating the clicking of location checkbox\n",
        "\n",
        "location_button = driver.find_element(By.XPATH, \"/html/body/div[1]/div[4]/div/div/section[1]/div[2]/div[6]/div[2]/div[3]/label/i\")\n",
        "location_button.click()"
      ],
      "id": "3a9a2f2d"
    },
    {
      "cell_type": "code",
      "execution_count": null,
      "metadata": {
        "id": "4064762d"
      },
      "outputs": [],
      "source": [
        "# Get web elements for Job title, Job Locations, Company names and Experience Required\n",
        "\n",
        "job_titles = driver.find_elements(By.XPATH,'//a[@class=\"title ellipsis\"]')\n",
        "job_locations = driver.find_elements(By.XPATH,'//span[@class=\"ellipsis fleft locWdth\"]')\n",
        "company_names = driver.find_elements(By.XPATH,'//a[@class=\"subTitle ellipsis fleft\"]')\n",
        "experience_required = driver.find_elements(By.XPATH,'//span[@class=\"ellipsis fleft expwdth\"]')\n",
        "\n",
        "# Get text from the web elements\n",
        "\n",
        "job_titles = [title.text for title in job_titles[:10]]\n",
        "job_locations = [location.text for location in job_locations[:10]]\n",
        "company_names = [company.text for company in company_names[:10]]\n",
        "experience_required = [experience.text for experience in experience_required[:10]]"
      ],
      "id": "4064762d"
    },
    {
      "cell_type": "code",
      "execution_count": null,
      "metadata": {
        "id": "4aac8169",
        "outputId": "0f3436f3-9cfc-4649-f9e0-1fed7e786eba"
      },
      "outputs": [
        {
          "name": "stdout",
          "output_type": "stream",
          "text": [
            "                             Job Title  \\\n",
            "0                Junior Data Scientist   \n",
            "1                       Data Scientist   \n",
            "2                       Data Scientist   \n",
            "3                Junior Data Scientist   \n",
            "4       Data Scientist - II (Contract)   \n",
            "5                       Data Scientist   \n",
            "6  Research Scientist - Bioinformatics   \n",
            "7                   Data Scientist - I   \n",
            "8            Machine Learning Engineer   \n",
            "9   Assistant Manager - Data Scientist   \n",
            "\n",
            "                                        Job Location             Company Name  \\\n",
            "0  Kolkata, Mumbai, New Delhi, Hyderabad/Secunder...                 Analytos   \n",
            "1              Gurgaon/Gurugram, Bangalore/Bengaluru                Blackbuck   \n",
            "2  Kolkata, Mumbai, New Delhi, Hyderabad/Secunder...                 Analytos   \n",
            "3    Gurgaon/Gurugram, United States (USA), Bulgaria                   Adidas   \n",
            "4                                   Gurgaon/Gurugram                   Netomi   \n",
            "5                                              Noida  Gujarat Fluorochemicals   \n",
            "6                                   Gurgaon/Gurugram          Biopeople India   \n",
            "7                                   Gurgaon/Gurugram                   Netomi   \n",
            "8                                              Noida    Profit By Outsourcing   \n",
            "9                                   Gurgaon/Gurugram   Fidelity International   \n",
            "\n",
            "  Experience Required  \n",
            "0             0-2 Yrs  \n",
            "1             3-7 Yrs  \n",
            "2             2-4 Yrs  \n",
            "3             1-6 Yrs  \n",
            "4             3-7 Yrs  \n",
            "5             1-2 Yrs  \n",
            "6             0-2 Yrs  \n",
            "7             3-6 Yrs  \n",
            "8             2-7 Yrs  \n",
            "9             5-7 Yrs  \n"
          ]
        }
      ],
      "source": [
        "# Creating dataframe for storing data\n",
        "\n",
        "df = pd.DataFrame({\n",
        "    'Job Title': job_titles,\n",
        "    'Job Location': job_locations,\n",
        "    'Company Name': company_names,\n",
        "    'Experience Required': experience_required\n",
        "})\n",
        "\n",
        "# Print the dataframe, which shows jobs under Data Scientist title, in Delhi/NCR region and salary ranging from 3 to 6 lakhs\n",
        "\n",
        "print(df)"
      ],
      "id": "4aac8169"
    },
    {
      "cell_type": "code",
      "execution_count": null,
      "metadata": {
        "id": "8acfda6a"
      },
      "outputs": [],
      "source": [
        "# Closing the webdriver\n",
        "\n",
        "driver.quit()"
      ],
      "id": "8acfda6a"
    },
    {
      "cell_type": "markdown",
      "source": [
        "## Solution -4"
      ],
      "metadata": {
        "id": "YRubd76IU0eu"
      },
      "id": "YRubd76IU0eu"
    },
    {
      "cell_type": "code",
      "execution_count": null,
      "metadata": {
        "id": "6IUfGb0TU8Se"
      },
      "outputs": [],
      "source": [
        "# Creating a webdriver and calling a website\n",
        "\n",
        "driver = webdriver.Chrome(r\"C:\\Users\\Jatin\\OneDrive\\Desktop\\ritwik\\chromedriver_win32\\chromedriver.exe\")\n",
        "driver.get(\"https://www.flipkart.com/\")"
      ],
      "id": "6IUfGb0TU8Se"
    },
    {
      "cell_type": "code",
      "execution_count": null,
      "metadata": {
        "id": "05891d9d"
      },
      "outputs": [],
      "source": [
        "search_field = driver.find_element(By.CLASS_NAME,\"_3704LK\")\n",
        "search_field.send_keys(\"sunglasses\")"
      ],
      "id": "05891d9d"
    },
    {
      "cell_type": "code",
      "execution_count": null,
      "metadata": {
        "id": "87695dfa"
      },
      "outputs": [],
      "source": [
        "# Automating the clicking of search button\n",
        "\n",
        "search_button = driver.find_element(By.CLASS_NAME, \"_34RNph\")\n",
        "search_button.click()"
      ],
      "id": "87695dfa"
    },
    {
      "cell_type": "code",
      "execution_count": null,
      "metadata": {
        "id": "b159b197"
      },
      "outputs": [],
      "source": [
        "brand_name = []\n",
        "product_description = []\n",
        "price = []"
      ],
      "id": "b159b197"
    },
    {
      "cell_type": "code",
      "execution_count": null,
      "metadata": {
        "id": "68e7e45d"
      },
      "outputs": [],
      "source": [
        "start = 0\n",
        "end = 3\n",
        "for i in range(start, end):\n",
        "    brand = driver.find_elements(By.XPATH,'//div[@class=\"_2WkVRV\"]')\n",
        "    for j in brand:\n",
        "        brand_name.append(j.text)\n",
        "    next_button = driver.find_element(By.XPATH,'//a[@class=\"_1LKTO3\"]')\n",
        "    next_button.click()\n",
        "    time.sleep(3)"
      ],
      "id": "68e7e45d"
    },
    {
      "cell_type": "code",
      "execution_count": null,
      "metadata": {
        "id": "5e6a05b6",
        "outputId": "3b4b69c8-9788-4057-e1d4-0573174ceeef"
      },
      "outputs": [
        {
          "data": {
            "text/plain": [
              "120"
            ]
          },
          "execution_count": 24,
          "metadata": {},
          "output_type": "execute_result"
        }
      ],
      "source": [
        "len(brand_name) # We will take only 100 entries at the time of creating dataframe"
      ],
      "id": "5e6a05b6"
    },
    {
      "cell_type": "code",
      "execution_count": null,
      "metadata": {
        "id": "9a344698"
      },
      "outputs": [],
      "source": [
        "start_2 = 0\n",
        "end_2 = 3\n",
        "for i in range(start_2, end_2):\n",
        "    product_description = driver.find_elements(By.XPATH,'//div[@class=\"IRpwTa _2-ICcC\"]')\n",
        "    for j in product_description:\n",
        "        product_description.append(j.text)\n",
        "    next_button = driver.find_element(By.XPATH,'//a[@class=\"_1LKTO3\"]')\n",
        "    next_button.click()\n",
        "    time.sleep(3)"
      ],
      "id": "9a344698"
    },
    {
      "cell_type": "code",
      "execution_count": null,
      "metadata": {
        "id": "910d55b8",
        "outputId": "b0334e6e-ab4e-48e0-9fcc-630537b96d73"
      },
      "outputs": [
        {
          "data": {
            "text/plain": [
              "0"
            ]
          },
          "execution_count": 30,
          "metadata": {},
          "output_type": "execute_result"
        }
      ],
      "source": [
        "len(product_description) # We will take only 100 entries at the time of creating dataframe"
      ],
      "id": "910d55b8"
    },
    {
      "cell_type": "code",
      "execution_count": null,
      "metadata": {
        "id": "849cff3b"
      },
      "outputs": [],
      "source": [
        "start_3 = 0\n",
        "end_3 = 3\n",
        "for i in range(start_2, end_2):\n",
        "    price = driver.find_elements(By.XPATH,'//div[@class=\"_30jeq3\"]')\n",
        "    for j in price:\n",
        "        price.append(j.text)\n",
        "    next_button = driver.find_element(By.XPATH,'//a[@class=\"_1LKTO3\"]')\n",
        "    next_button.click()\n",
        "    time.sleep(3)"
      ],
      "id": "849cff3b"
    },
    {
      "cell_type": "code",
      "execution_count": null,
      "metadata": {
        "id": "037ea021"
      },
      "outputs": [],
      "source": [
        "len(price) # We will take only 100 entries at the time of creating dataframe"
      ],
      "id": "037ea021"
    },
    {
      "cell_type": "code",
      "execution_count": null,
      "metadata": {
        "id": "a65aab10"
      },
      "outputs": [],
      "source": [
        "df = pd.DataFrame({\n",
        "    'Name of the brand': brand_name[:100],\n",
        "    'Product Description': product_description[:100],\n",
        "    'Price': price[:100]\n",
        "})"
      ],
      "id": "a65aab10"
    },
    {
      "cell_type": "code",
      "execution_count": null,
      "metadata": {
        "id": "7c7c702b",
        "outputId": "083d1782-c60f-46c1-93c7-5227beda0e0e"
      },
      "outputs": [
        {
          "name": "stdout",
          "output_type": "stream",
          "text": [
            "   Name of the brand\n",
            "0      VINCENT CHASE\n",
            "1      VINCENT CHASE\n",
            "2             PIRASO\n",
            "3             PIRASO\n",
            "4             TamTam\n",
            "..               ...\n",
            "95    ROZZETTA CRAFT\n",
            "96          Fastrack\n",
            "97            PIRASO\n",
            "98            PIRASO\n",
            "99            AISLIN\n",
            "\n",
            "[100 rows x 1 columns]\n"
          ]
        }
      ],
      "source": [
        "print(df)"
      ],
      "id": "7c7c702b"
    },
    {
      "cell_type": "code",
      "execution_count": null,
      "metadata": {
        "id": "MnnTUhnUVLJO"
      },
      "outputs": [],
      "source": [
        "# Closing the webdriver\n",
        "\n",
        "driver.quit()"
      ],
      "id": "MnnTUhnUVLJO"
    }
  ],
  "metadata": {
    "kernelspec": {
      "display_name": "Python 3 (ipykernel)",
      "language": "python",
      "name": "python3"
    },
    "language_info": {
      "codemirror_mode": {
        "name": "ipython",
        "version": 3
      },
      "file_extension": ".py",
      "mimetype": "text/x-python",
      "name": "python",
      "nbconvert_exporter": "python",
      "pygments_lexer": "ipython3",
      "version": "3.9.7"
    },
    "colab": {
      "provenance": []
    }
  },
  "nbformat": 4,
  "nbformat_minor": 5
}