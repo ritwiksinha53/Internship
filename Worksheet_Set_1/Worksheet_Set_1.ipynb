{
  "nbformat": 4,
  "nbformat_minor": 0,
  "metadata": {
    "colab": {
      "provenance": []
    },
    "kernelspec": {
      "name": "python3",
      "display_name": "Python 3"
    },
    "language_info": {
      "name": "python"
    }
  },
  "cells": [
    {
      "cell_type": "markdown",
      "source": [
        "Python program to find the factorial of a number"
      ],
      "metadata": {
        "id": "5ysHP7aYSGsq"
      }
    },
    {
      "cell_type": "code",
      "execution_count": 1,
      "metadata": {
        "colab": {
          "base_uri": "https://localhost:8080/"
        },
        "id": "abiiXN5iR3gL",
        "outputId": "ceca6fc2-732b-4545-84af-6b3d71f2e972"
      },
      "outputs": [
        {
          "output_type": "stream",
          "name": "stdout",
          "text": [
            "Enter a number: 5\n",
            "Factorial of 5 is 120\n"
          ]
        }
      ],
      "source": [
        "num = int(input(\"Enter a number: \"))\n",
        "factorial = 1\n",
        "\n",
        "if num < 0:\n",
        "    print(\"Factorial cannot be found for negative numbers\")\n",
        "elif num == 0:\n",
        "    print(\"Factorial of 0 is 1\")\n",
        "else:\n",
        "    for i in range(1, num + 1):\n",
        "        factorial = factorial * i\n",
        "    print(\"Factorial of\", num, \"is\", factorial)"
      ]
    },
    {
      "cell_type": "markdown",
      "source": [
        "Python program to find whether a number is prime or composite"
      ],
      "metadata": {
        "id": "qZZWqrqDTDz0"
      }
    },
    {
      "cell_type": "code",
      "source": [
        "num = int(input(\"Enter a number: \"))\n",
        "if num > 1:\n",
        "    for i in range(2, num):\n",
        "        if (num % i) == 0:\n",
        "            print(num, \"is a composite number\")\n",
        "            break\n",
        "    else:\n",
        "        print(num, \"is a prime number\")\n",
        "else:\n",
        "    print(num, \"is not a prime number\")"
      ],
      "metadata": {
        "colab": {
          "base_uri": "https://localhost:8080/"
        },
        "id": "R0ZYQGI7TJMj",
        "outputId": "c979d515-2a9f-460e-f0c5-48419c74c251"
      },
      "execution_count": 3,
      "outputs": [
        {
          "output_type": "stream",
          "name": "stdout",
          "text": [
            "Enter a number: 13\n",
            "13 is a prime number\n"
          ]
        }
      ]
    },
    {
      "cell_type": "markdown",
      "source": [
        "Python program to check whether a given string is palindrome or not"
      ],
      "metadata": {
        "id": "kb5_L_hMTcyT"
      }
    },
    {
      "cell_type": "code",
      "source": [
        "string = input(\"Enter a string: \")\n",
        "\n",
        "if string == string[::-1]:\n",
        "    print(\"The string is a palindrome\")\n",
        "else:\n",
        "    print(\"The string is not a palindrome\")"
      ],
      "metadata": {
        "colab": {
          "base_uri": "https://localhost:8080/"
        },
        "id": "eEIbYqtKTkWk",
        "outputId": "233e3981-219e-4316-c635-61f41326c755"
      },
      "execution_count": 5,
      "outputs": [
        {
          "output_type": "stream",
          "name": "stdout",
          "text": [
            "Enter a string: saas\n",
            "The string is a palindrome\n"
          ]
        }
      ]
    },
    {
      "cell_type": "markdown",
      "source": [
        "Python program to get the third side of right-angled triangle from two given sides"
      ],
      "metadata": {
        "id": "8-rxJ3-gT-hR"
      }
    },
    {
      "cell_type": "code",
      "source": [
        "import math\n",
        "\n",
        "side1 = float(input(\"Enter length of first side: \"))\n",
        "side2 = float(input(\"Enter length of second side: \"))\n",
        "\n",
        "# Calculate the length of the hypotenuse using the Pythagorean theorem\n",
        "hypotenuse = math.sqrt(side1**2 + side2**2)\n",
        "\n",
        "print(\"The length of the hypotenuse is\", hypotenuse)"
      ],
      "metadata": {
        "colab": {
          "base_uri": "https://localhost:8080/"
        },
        "id": "5WRrkOUdUEE9",
        "outputId": "20204fd2-dd1c-4736-c9ec-af333425daef"
      },
      "execution_count": 6,
      "outputs": [
        {
          "output_type": "stream",
          "name": "stdout",
          "text": [
            "Enter length of first side: 40\n",
            "Enter length of second side: 32\n",
            "The length of the hypotenuse is 51.22499389946279\n"
          ]
        }
      ]
    },
    {
      "cell_type": "markdown",
      "source": [
        "Python program to print the frequency of each of the characters present in a given string"
      ],
      "metadata": {
        "id": "CfMzQsdiUSJm"
      }
    },
    {
      "cell_type": "code",
      "source": [
        "string = input(\"Enter a string: \")\n",
        "frequency = {}\n",
        "\n",
        "for char in string:\n",
        "    if char in frequency:\n",
        "        frequency[char] += 1\n",
        "    else:\n",
        "        frequency[char] = 1\n",
        "for char, count in frequency.items():\n",
        "    print(char, \":\", count)"
      ],
      "metadata": {
        "colab": {
          "base_uri": "https://localhost:8080/"
        },
        "id": "yKIHpojkUXsy",
        "outputId": "d4ed023c-1ae7-4577-a22a-14d53f17dfb2"
      },
      "execution_count": 8,
      "outputs": [
        {
          "output_type": "stream",
          "name": "stdout",
          "text": [
            "Enter a string: Ritwik Sinha\n",
            "R : 1\n",
            "i : 3\n",
            "t : 1\n",
            "w : 1\n",
            "k : 1\n",
            "  : 1\n",
            "S : 1\n",
            "n : 1\n",
            "h : 1\n",
            "a : 1\n"
          ]
        }
      ]
    }
  ]
}